{
  "cells": [
    {
      "cell_type": "markdown",
      "metadata": {
        "id": "view-in-github",
        "colab_type": "text"
      },
      "source": [
        "<a href=\"https://colab.research.google.com/github/karthebans/Natural-Language-Processing-1/blob/master/Cleaning_Text_Data_(1).ipynb\" target=\"_parent\"><img src=\"https://colab.research.google.com/assets/colab-badge.svg\" alt=\"Open In Colab\"/></a>"
      ]
    },
    {
      "cell_type": "markdown",
      "metadata": {
        "id": "87GRoci1OVzD"
      },
      "source": [
        "# Text Cleaning in Python"
      ]
    },
    {
      "cell_type": "code",
      "execution_count": null,
      "metadata": {
        "id": "mZqY51IhOVzT"
      },
      "outputs": [],
      "source": [
        "#warnings :)\n",
        "import warnings\n",
        "warnings.filterwarnings('ignore')"
      ]
    },
    {
      "cell_type": "code",
      "execution_count": null,
      "metadata": {
        "id": "aVUQ7MPGOVzZ"
      },
      "outputs": [],
      "source": [
        "#Creating bunch of sentences\n",
        "raw_docs = [\"I am writing some very basic english sentences\",\n",
        "\"I'm just writing it for the demo PURPOSE to make audience understand the basics .\",\n",
        "\"The point is to _learn HOW it works_ on #simple # data.\"]"
      ]
    },
    {
      "cell_type": "code",
      "execution_count": null,
      "metadata": {
        "id": "b9sEqFYuOVzc"
      },
      "outputs": [],
      "source": [
        "#importing nltk package\n",
        "import nltk"
      ]
    },
    {
      "cell_type": "code",
      "execution_count": null,
      "metadata": {
        "id": "BmkS0QvWOVzd"
      },
      "outputs": [],
      "source": [
        "#nltk.download()\n",
        "\n",
        "#python -m nltk.downloader all"
      ]
    },
    {
      "cell_type": "markdown",
      "metadata": {
        "id": "l10jYkjxOVzf"
      },
      "source": [
        "# Step 1 - convert to lower case"
      ]
    },
    {
      "cell_type": "code",
      "execution_count": null,
      "metadata": {
        "id": "VQlkNbKsOVzg",
        "outputId": "2a51f5b8-c26a-4fe7-e21f-5b7e268717e8"
      },
      "outputs": [
        {
          "name": "stdout",
          "output_type": "stream",
          "text": [
            "['i am writing some very basic english sentences', \"i'm just writing it for the demo purpose to make audience understand the basics .\", 'the point is to _learn how it works_ on #simple # data.']\n"
          ]
        }
      ],
      "source": [
        "import string\n",
        "raw_docs = [doc.lower() for doc in raw_docs]\n",
        "print(raw_docs)"
      ]
    },
    {
      "cell_type": "markdown",
      "metadata": {
        "id": "Wa0lBtnROVzk"
      },
      "source": [
        "# Step 2 - Tokenization"
      ]
    },
    {
      "cell_type": "code",
      "execution_count": null,
      "metadata": {
        "id": "iGzZwUnROVzl",
        "outputId": "0aab61fe-dbd3-4a78-d42f-b5d33fbda2e2"
      },
      "outputs": [
        {
          "name": "stdout",
          "output_type": "stream",
          "text": [
            "[['i', 'am', 'writing', 'some', 'very', 'basic', 'english', 'sentences'], ['i', \"'m\", 'just', 'writing', 'it', 'for', 'the', 'demo', 'purpose', 'to', 'make', 'audience', 'understand', 'the', 'basics', '.'], ['the', 'point', 'is', 'to', '_learn', 'how', 'it', 'works_', 'on', '#', 'simple', '#', 'data', '.']]\n",
            "#######################################################################################\n",
            "[['i am writing some very basic english sentences'], [\"i'm just writing it for the demo purpose to make audience understand the basics .\"], ['the point is to _learn how it works_ on #simple # data.']]\n"
          ]
        }
      ],
      "source": [
        "# word tokenize\n",
        "from nltk.tokenize import word_tokenize\n",
        "tokenized_docs = [word_tokenize(doc) for doc in raw_docs]\n",
        "print(tokenized_docs)\n",
        "\n",
        "print(\"#######################################################################################\")\n",
        "\n",
        "#Sentence tokenization\n",
        "\n",
        "from nltk.tokenize import sent_tokenize\n",
        "sent_token = [sent_tokenize(doc) for doc in raw_docs]\n",
        "print(sent_token)"
      ]
    },
    {
      "cell_type": "markdown",
      "metadata": {
        "id": "HIA0Nxv1OVzo"
      },
      "source": [
        "# Step 3 - Punctuation Removal"
      ]
    },
    {
      "cell_type": "code",
      "execution_count": null,
      "metadata": {
        "id": "AGuN_YLVOVzp",
        "outputId": "5bb98710-b865-430d-fb0c-31901ad44cec"
      },
      "outputs": [
        {
          "name": "stdout",
          "output_type": "stream",
          "text": [
            "[['i', 'am', 'writing', 'some', 'very', 'basic', 'english', 'sentences'], ['i', 'm', 'just', 'writing', 'it', 'for', 'the', 'demo', 'purpose', 'to', 'make', 'audience', 'understand', 'the', 'basics'], ['the', 'point', 'is', 'to', 'learn', 'how', 'it', 'works', 'on', 'simple', 'data']]\n"
          ]
        }
      ],
      "source": [
        "# Removing punctuation\n",
        "import re\n",
        "regex = re.compile('[%s]' % re.escape(string.punctuation)) #see documentation here: http://docs.python.org/2/library/string.html\n",
        "\n",
        "tokenized_docs_no_punctuation = []\n",
        "\n",
        "for review in tokenized_docs:\n",
        "    new_review = []\n",
        "    for token in review:\n",
        "        new_token = regex.sub(u'', token)\n",
        "        if not new_token == u'':\n",
        "            new_review.append(new_token)\n",
        "    \n",
        "    tokenized_docs_no_punctuation.append(new_review)\n",
        "    \n",
        "print(tokenized_docs_no_punctuation)"
      ]
    },
    {
      "cell_type": "markdown",
      "metadata": {
        "id": "1sk806CROVzs"
      },
      "source": [
        "# Step 4 - Removing Stopwords"
      ]
    },
    {
      "cell_type": "code",
      "execution_count": null,
      "metadata": {
        "id": "hZta4s8ROVzt",
        "outputId": "12bc47b6-f691-46c7-eff7-7f9478d139fa"
      },
      "outputs": [
        {
          "name": "stdout",
          "output_type": "stream",
          "text": [
            "[['writing', 'basic', 'english', 'sentences'], ['writing', 'demo', 'purpose', 'make', 'audience', 'understand', 'basics'], ['point', 'learn', 'works', 'simple', 'data']]\n"
          ]
        }
      ],
      "source": [
        "# Cleaning text of stopwords\n",
        "from nltk.corpus import stopwords\n",
        "\n",
        "tokenized_docs_no_stopwords = []\n",
        "\n",
        "for doc in tokenized_docs_no_punctuation:\n",
        "    new_term_vector = []\n",
        "    for word in doc:\n",
        "        if not word in stopwords.words('english'):\n",
        "            new_term_vector.append(word)\n",
        "    \n",
        "    tokenized_docs_no_stopwords.append(new_term_vector)\n",
        "\n",
        "print(tokenized_docs_no_stopwords)"
      ]
    },
    {
      "cell_type": "markdown",
      "metadata": {
        "id": "8mrH4Ag7OVzv"
      },
      "source": [
        "# Step 5- Stemming and Lemmantization"
      ]
    },
    {
      "cell_type": "code",
      "execution_count": null,
      "metadata": {
        "id": "UMoHUQlYOVzv",
        "outputId": "fe92eb24-a4da-4e6e-de8d-106a1d65290a"
      },
      "outputs": [
        {
          "name": "stdout",
          "output_type": "stream",
          "text": [
            "[['writing', 'basic', 'english', 'sentence'], ['writing', 'demo', 'purpose', 'make', 'audience', 'understand', 'basic'], ['point', 'learn', 'work', 'simple', 'data']]\n"
          ]
        }
      ],
      "source": [
        "# Stemming and Lemmatization\n",
        "from nltk.stem.porter import PorterStemmer\n",
        "from nltk.stem.wordnet import WordNetLemmatizer\n",
        "\n",
        "porter = PorterStemmer()\n",
        "wordnet = WordNetLemmatizer()\n",
        "\n",
        "preprocessed_docs = []\n",
        "\n",
        "for doc in tokenized_docs_no_stopwords:\n",
        "    final_doc = []\n",
        "    for word in doc:\n",
        "        #final_doc.append(porter.stem(word))\n",
        "        final_doc.append(wordnet.lemmatize(word))\n",
        "    \n",
        "    preprocessed_docs.append(final_doc)\n",
        "\n",
        "print(preprocessed_docs)"
      ]
    },
    {
      "cell_type": "markdown",
      "metadata": {
        "id": "TOCSQVh_OVzx"
      },
      "source": [
        "# Advance cleaning technique 1 - Normalization "
      ]
    },
    {
      "cell_type": "code",
      "execution_count": null,
      "metadata": {
        "id": "fzsEnhOvOVzz"
      },
      "outputs": [],
      "source": [
        "text = \"On the 30th Jan 2020,Corona virus hit India with 1st case in kerala  anywhere, G.O.I started acting and allocated fund of 17287 Crores I.N.R\""
      ]
    },
    {
      "cell_type": "code",
      "execution_count": null,
      "metadata": {
        "id": "zciWhTrJOVz0",
        "outputId": "15b172a5-5d89-4dfc-d32c-e2fb2b4d6c9b"
      },
      "outputs": [
        {
          "data": {
            "text/plain": [
              "'Normalized text: On the thirtieth of Jan twenty twenty , Corona virus hit India with first case in kerala anywhere , Government Of India started acting and allocated fund of seventeen thousand, two hundred and eighty seven Crores Indian Rupees'"
            ]
          },
          "metadata": {},
          "output_type": "display_data"
        }
      ],
      "source": [
        "from normalise import normalise\n",
        "\n",
        "custom_abbr = {\n",
        "    \"G.O.I\": \"Government Of India\",\n",
        "    \"I.N.R\": \"Indian Rupees\",\n",
        "    \"ttyl\":\"talk to you later\"\n",
        "    \n",
        "}\n",
        "\n",
        "normalized_tokens = normalise(word_tokenize(text), user_abbrevs=custom_abbr, verbose=False)\n",
        "display(f\"Normalized text: {' '.join(normalized_tokens)}\")"
      ]
    },
    {
      "cell_type": "markdown",
      "metadata": {
        "id": "JSOlp8P-OVz1"
      },
      "source": [
        "# Advance cleaning technique 2 - Type corection - To be shown later "
      ]
    },
    {
      "cell_type": "code",
      "execution_count": null,
      "metadata": {
        "id": "ZW4w_ejFOVz2"
      },
      "outputs": [],
      "source": [
        ""
      ]
    }
  ],
  "metadata": {
    "kernelspec": {
      "display_name": "Python 3",
      "language": "python",
      "name": "python3"
    },
    "language_info": {
      "codemirror_mode": {
        "name": "ipython",
        "version": 3
      },
      "file_extension": ".py",
      "mimetype": "text/x-python",
      "name": "python",
      "nbconvert_exporter": "python",
      "pygments_lexer": "ipython3",
      "version": "3.7.3"
    },
    "colab": {
      "name": "Cleaning Text Data (1).ipynb",
      "provenance": [],
      "include_colab_link": true
    }
  },
  "nbformat": 4,
  "nbformat_minor": 0
}